{
 "cells": [
  {
   "cell_type": "markdown",
   "metadata": {},
   "source": [
    "# Capstone Project - The Battle of Neighborhoods\n",
    "## 1. Introduction/Business Problem section\n",
    "A short description of the business problem and the target audience interested\n",
    "My business partner and I would like to initiate a startup business to provide indoor rock climbing facilities in Singapore. We have looked through a list of locations provided by our property consultant and narrowed down our preferred choice to 5 locations based on their rental prices.\n",
    "\n",
    "Aside from rental prices, we would also like to take reference from the characteristics (e.g near public transport facilities, food outlets etc) of our competitors' location to select our choice of venue.\n",
    "\n",
    "My partner has asked for my help to find out how many of such similar rock climbing facilities are in Singapore and where they are located. Leveraging on the skills I have learnt in this course on using Foursquare location API, I would be identifying the characteristics of the venues surrounding our competitors' facilities (e.g public transport facilities and food outlets). Subsequently, based on what we know of our competitors' venue, we would then apply the characteristics to our list of shortlisted venues to make our decision."
   ]
  },
  {
   "cell_type": "markdown",
   "metadata": {},
   "source": [
    "## 2. Data section\n",
    "Description of the data and its sources that will be used to solve the problem\n",
    "### 2.1 Data on existing rock climbing facilities in Singapore and their location\n",
    "\n",
    "To identify the characteristics of our competitors' venues in Singapore, we would first need to find out the number of rock climbing facilities in Singapore currently and their location. We have found a list of popular rock climbing facilities in Singapore from the website thehoneycombers.com and obtained their postal code addresses.\n",
    "\n",
    "Next, we would be using Google Map API to find their geographic coordinates based on their postal code addresses.\n",
    "\n"
   ]
  },
  {
   "cell_type": "code",
   "execution_count": null,
   "metadata": {},
   "outputs": [],
   "source": []
  },
  {
   "cell_type": "code",
   "execution_count": null,
   "metadata": {},
   "outputs": [],
   "source": []
  },
  {
   "cell_type": "code",
   "execution_count": null,
   "metadata": {},
   "outputs": [],
   "source": []
  }
 ],
 "metadata": {
  "kernelspec": {
   "display_name": "Python 3",
   "language": "python",
   "name": "python3"
  },
  "language_info": {
   "codemirror_mode": {
    "name": "ipython",
    "version": 3
   },
   "file_extension": ".py",
   "mimetype": "text/x-python",
   "name": "python",
   "nbconvert_exporter": "python",
   "pygments_lexer": "ipython3",
   "version": "3.7.3"
  }
 },
 "nbformat": 4,
 "nbformat_minor": 2
}
