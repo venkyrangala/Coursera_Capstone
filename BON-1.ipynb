{
 "cells": [
  {
   "cell_type": "markdown",
   "metadata": {},
   "source": [
    "# Location recommender system for opening a new restaurant \n",
    "\n",
    "## Business Problem :\n",
    "\n",
    "A chef wants to open his own restaurant in Brooklyn, New York City. He wants to know the best area to open a restaurant by analyzing different neighborhoods. Therefore, solution for this problem is to create a machine learning recommender system which will help the chef to make better and informed decision on best areas to open the restaurant\n",
    "\n",
    "This Project would be helpful for many people to take a better decision on choosing the best neighborhood out of many neighborhoods to build/open their restaurants in Brooklyn, New York City based on the distribution of various different restaurants in and around that neighborhood. Therefore, this project would compare various restaurants and other locations in that neighborhoods and analyses the top 10 most common venues to open a restaurant. Also, this project uses K-mean clustering unsupervised machine learning algorithm to cluster the venues based on the place category such as restaurants and other locations.\n",
    "\n",
    "As an example, this project would give a better understanding for the small business people to find out the best areas to start a business.\n",
    "\n",
    "## Data :\n",
    "\n",
    "This project would use Four-square API as its prime data gathering source to get details of the presense of similar restaurants in each neighborhood. Foursquare rest-based API provide details like Venue Name, Catagory, customer likes, etc.\n",
    "The data from Foursquare will be fetched using the longitude and latiatude details of neighborhoods around Brooklyn.\n",
    "\n",
    "This project also requires New York City GeoJson data which contains details like Borough, Neighborhood, Latitude, Longitude of each major locations in New York.\n",
    "\n",
    "The idea is to use K-mean clustering unsupervised machine learning algorithm to cluster the venues based on the place category such as restaurants and other locations."
   ]
  },
  {
   "cell_type": "code",
   "execution_count": null,
   "metadata": {},
   "outputs": [],
   "source": []
  }
 ],
 "metadata": {
  "kernelspec": {
   "display_name": "Python 3",
   "language": "python",
   "name": "python3"
  },
  "language_info": {
   "codemirror_mode": {
    "name": "ipython",
    "version": 3
   },
   "file_extension": ".py",
   "mimetype": "text/x-python",
   "name": "python",
   "nbconvert_exporter": "python",
   "pygments_lexer": "ipython3",
   "version": "3.7.3"
  }
 },
 "nbformat": 4,
 "nbformat_minor": 2
}
